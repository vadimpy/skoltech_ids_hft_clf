{
 "cells": [
  {
   "cell_type": "code",
   "execution_count": 1,
   "id": "36ac8c58",
   "metadata": {},
   "outputs": [],
   "source": [
    "class DataAccessor:\n",
    "    \n",
    "    def __init__(self, df):\n",
    "        self.df = df\n",
    "        \n",
    "        self.id = self.df['id']\n",
    "        self.last_price = self.df['last_price']\n",
    "        self.mid = self.df['mid']\n",
    "        self.opened_position_qty = self.df['opened_position_qty ']\n",
    "        self.closed_position_qty = self.df['closed_position_qty']\n",
    "        self.transacted_qty = self.df['transacted_qty']\n",
    "        self.d_open_interest = self.df['d_open_interest']\n",
    "        \n",
    "        self.bid = []\n",
    "        self.bid.extend([0, self.df['bid1'], self.df['bid2'], \n",
    "                         self.df['bid3'], self.df['bid4'], self.df['bid5']])\n",
    "        \n",
    "        self.ask = []\n",
    "        self.ask.extend([0, self.df['ask1'], self.df['ask2'], \n",
    "                         self.df['ask3'], self.df['ask4'], self.df['ask5']])\n",
    "        \n",
    "        self.bidvol = []\n",
    "        self.bidvol.extend([0, self.df['bid1vol'], self.df['bid2vol'], \n",
    "                         self.df['bid3vol'], self.df['bid4vol'], self.df['bid5vol']])\n",
    "        \n",
    "        self.askvol = []\n",
    "        self.askvol.extend([0, self.df['ask1vol'], self.df['ask2vol'], \n",
    "                         self.df['ask3vol'], self.df['ask4vol'], self.df['ask5vol']])\n",
    "        \n",
    "        self.y = self.df['y']"
   ]
  }
 ],
 "metadata": {
  "kernelspec": {
   "display_name": "Python 3 (ipykernel)",
   "language": "python",
   "name": "python3"
  },
  "language_info": {
   "codemirror_mode": {
    "name": "ipython",
    "version": 3
   },
   "file_extension": ".py",
   "mimetype": "text/x-python",
   "name": "python",
   "nbconvert_exporter": "python",
   "pygments_lexer": "ipython3",
   "version": "3.10.6"
  }
 },
 "nbformat": 4,
 "nbformat_minor": 5
}
